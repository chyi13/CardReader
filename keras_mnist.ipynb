{
 "cells": [
  {
   "cell_type": "code",
   "execution_count": 27,
   "metadata": {},
   "outputs": [
    {
     "name": "stdout",
     "output_type": "stream",
     "text": [
      "Training matrix shape (60000, 784)\n",
      "Testing matrix shape (10000, 784)\n"
     ]
    },
    {
     "data": {
      "text/plain": [
       "<matplotlib.image.AxesImage at 0x1849062128>"
      ]
     },
     "execution_count": 27,
     "metadata": {},
     "output_type": "execute_result"
    },
    {
     "data": {
      "image/png": "[encoded data removed]",
      "text/plain": [
       "<matplotlib.figure.Figure at 0x18201c6d68>"
      ]
     },
     "metadata": {},
     "output_type": "display_data"
    }
   ],
   "source": [
    "import tensorflow as tf\n",
    "from tensorflow import keras\n",
    "import matplotlib.pyplot as plt\n",
    "import numpy as np\n",
    "from tensorflow.keras.preprocessing import image\n",
    "# tf.enable_eaer_execution()\n",
    "\n",
    "(train_images, train_labels), (test_images, test_labels) = tf.keras.datasets.mnist.load_data()\n",
    "plt.subplot(3,3,1)\n",
    "plt.imshow(test_images[1], cmap='gray', interpolation='none')\n",
    "\n",
    "train_labels = train_labels[:60000]\n",
    "test_labels = test_labels[:10000]\n",
    "\n",
    "train_images = train_images[:60000].reshape(-1, 28 * 28) / 255.0\n",
    "test_images = test_images[:10000].reshape(-1, 28 * 28) / 255.0\n",
    "\n",
    "print(\"Training matrix shape\", train_images.shape)\n",
    "print(\"Testing matrix shape\", test_images.shape)\n"
   ]
  },
  {
   "cell_type": "code",
   "execution_count": 31,
   "metadata": {},
   "outputs": [
    {
     "name": "stdout",
     "output_type": "stream",
     "text": [
      "WARNING:tensorflow:The `nb_epoch` argument in `fit` has been renamed `epochs`.\n",
      "Train on 60000 samples, validate on 10000 samples\n",
      "Epoch 1/100\n",
      "60000/60000 [==============================] - 5s 86us/step - loss: 0.2876 - acc: 0.9177 - val_loss: 0.1420 - val_acc: 0.9576\n",
      "Epoch 2/100\n",
      "60000/60000 [==============================] - 4s 69us/step - loss: 0.1216 - acc: 0.9641 - val_loss: 0.0940 - val_acc: 0.9711\n",
      "Epoch 3/100\n",
      "60000/60000 [==============================] - 4s 70us/step - loss: 0.0829 - acc: 0.9748 - val_loss: 0.0823 - val_acc: 0.9758\n",
      "Epoch 4/100\n",
      "60000/60000 [==============================] - 4s 69us/step - loss: 0.0631 - acc: 0.9814 - val_loss: 0.0699 - val_acc: 0.9769\n",
      "Epoch 5/100\n",
      "60000/60000 [==============================] - 4s 70us/step - loss: 0.0497 - acc: 0.9847 - val_loss: 0.0653 - val_acc: 0.9796\n",
      "Epoch 6/100\n",
      "60000/60000 [==============================] - 4s 69us/step - loss: 0.0409 - acc: 0.9874 - val_loss: 0.0621 - val_acc: 0.9803\n",
      "Epoch 7/100\n",
      "60000/60000 [==============================] - 4s 70us/step - loss: 0.0345 - acc: 0.9892 - val_loss: 0.0612 - val_acc: 0.9815\n",
      "Epoch 8/100\n",
      "60000/60000 [==============================] - 4s 70us/step - loss: 0.0284 - acc: 0.9912 - val_loss: 0.0606 - val_acc: 0.9815\n",
      "Epoch 9/100\n",
      "60000/60000 [==============================] - 4s 69us/step - loss: 0.0238 - acc: 0.9931 - val_loss: 0.0654 - val_acc: 0.9801\n",
      "Epoch 10/100\n",
      "60000/60000 [==============================] - 4s 72us/step - loss: 0.0211 - acc: 0.9933 - val_loss: 0.0671 - val_acc: 0.9817\n",
      "Epoch 11/100\n",
      "60000/60000 [==============================] - 4s 70us/step - loss: 0.0186 - acc: 0.9942 - val_loss: 0.0611 - val_acc: 0.9818\n",
      "Epoch 12/100\n",
      "60000/60000 [==============================] - 4s 71us/step - loss: 0.0158 - acc: 0.9951 - val_loss: 0.0647 - val_acc: 0.9815\n",
      "Epoch 13/100\n",
      "60000/60000 [==============================] - 4s 72us/step - loss: 0.0145 - acc: 0.9954 - val_loss: 0.0650 - val_acc: 0.9816\n",
      "Epoch 14/100\n",
      "60000/60000 [==============================] - 4s 72us/step - loss: 0.0131 - acc: 0.9957 - val_loss: 0.0652 - val_acc: 0.9809\n",
      "Epoch 15/100\n",
      "60000/60000 [==============================] - 4s 71us/step - loss: 0.0108 - acc: 0.9967 - val_loss: 0.0649 - val_acc: 0.9823\n",
      "Epoch 16/100\n",
      "60000/60000 [==============================] - 4s 70us/step - loss: 0.0104 - acc: 0.9969 - val_loss: 0.0686 - val_acc: 0.9818\n",
      "Epoch 17/100\n",
      "60000/60000 [==============================] - 4s 71us/step - loss: 0.0100 - acc: 0.9969 - val_loss: 0.0697 - val_acc: 0.9813\n",
      "Epoch 18/100\n",
      "60000/60000 [==============================] - 4s 71us/step - loss: 0.0102 - acc: 0.9969 - val_loss: 0.0669 - val_acc: 0.9839\n",
      "Epoch 19/100\n",
      "60000/60000 [==============================] - 4s 70us/step - loss: 0.0093 - acc: 0.9972 - val_loss: 0.0720 - val_acc: 0.9820\n",
      "Epoch 20/100\n",
      "60000/60000 [==============================] - 4s 73us/step - loss: 0.0082 - acc: 0.9972 - val_loss: 0.0748 - val_acc: 0.9814\n",
      "Epoch 21/100\n",
      "60000/60000 [==============================] - 4s 73us/step - loss: 0.0083 - acc: 0.9971 - val_loss: 0.0761 - val_acc: 0.9815\n",
      "Epoch 22/100\n",
      "60000/60000 [==============================] - 4s 71us/step - loss: 0.0089 - acc: 0.9972 - val_loss: 0.0733 - val_acc: 0.9819\n",
      "Epoch 23/100\n",
      "60000/60000 [==============================] - 4s 74us/step - loss: 0.0078 - acc: 0.9974 - val_loss: 0.0714 - val_acc: 0.9825\n",
      "Epoch 24/100\n",
      "60000/60000 [==============================] - 4s 73us/step - loss: 0.0085 - acc: 0.9973 - val_loss: 0.0748 - val_acc: 0.9831\n",
      "Epoch 25/100\n",
      "60000/60000 [==============================] - 4s 74us/step - loss: 0.0055 - acc: 0.9983 - val_loss: 0.0743 - val_acc: 0.9832\n",
      "Epoch 26/100\n",
      "60000/60000 [==============================] - 4s 73us/step - loss: 0.0069 - acc: 0.9978 - val_loss: 0.0726 - val_acc: 0.9836\n",
      "Epoch 27/100\n",
      "60000/60000 [==============================] - 5s 75us/step - loss: 0.0070 - acc: 0.9978 - val_loss: 0.0748 - val_acc: 0.9828\n",
      "Epoch 28/100\n",
      "60000/60000 [==============================] - 4s 73us/step - loss: 0.0063 - acc: 0.9980 - val_loss: 0.0767 - val_acc: 0.9827\n",
      "Epoch 29/100\n",
      "60000/60000 [==============================] - 4s 73us/step - loss: 0.0054 - acc: 0.9983 - val_loss: 0.0728 - val_acc: 0.9837\n",
      "Epoch 30/100\n",
      "60000/60000 [==============================] - 4s 75us/step - loss: 0.0066 - acc: 0.9979 - val_loss: 0.0755 - val_acc: 0.9831\n",
      "Epoch 31/100\n",
      "60000/60000 [==============================] - 4s 72us/step - loss: 0.0058 - acc: 0.9980 - val_loss: 0.0795 - val_acc: 0.9827\n",
      "Epoch 32/100\n",
      "60000/60000 [==============================] - 4s 74us/step - loss: 0.0055 - acc: 0.9982 - val_loss: 0.0884 - val_acc: 0.9817\n",
      "Epoch 33/100\n",
      "60000/60000 [==============================] - 4s 72us/step - loss: 0.0064 - acc: 0.9978 - val_loss: 0.0785 - val_acc: 0.9837\n",
      "Epoch 34/100\n",
      "60000/60000 [==============================] - 4s 71us/step - loss: 0.0042 - acc: 0.9987 - val_loss: 0.0869 - val_acc: 0.9819\n",
      "Epoch 35/100\n",
      "60000/60000 [==============================] - 4s 73us/step - loss: 0.0071 - acc: 0.9974 - val_loss: 0.0807 - val_acc: 0.9838\n",
      "Epoch 36/100\n",
      "60000/60000 [==============================] - 4s 72us/step - loss: 0.0052 - acc: 0.9982 - val_loss: 0.0835 - val_acc: 0.9843\n",
      "Epoch 37/100\n",
      "60000/60000 [==============================] - 5s 78us/step - loss: 0.0047 - acc: 0.9985 - val_loss: 0.0840 - val_acc: 0.9841\n",
      "Epoch 38/100\n",
      "60000/60000 [==============================] - 4s 71us/step - loss: 0.0036 - acc: 0.9988 - val_loss: 0.0859 - val_acc: 0.9839\n",
      "Epoch 39/100\n",
      "60000/60000 [==============================] - 4s 72us/step - loss: 0.0061 - acc: 0.9978 - val_loss: 0.0937 - val_acc: 0.9813\n",
      "Epoch 40/100\n",
      "60000/60000 [==============================] - 4s 72us/step - loss: 0.0040 - acc: 0.9987 - val_loss: 0.0845 - val_acc: 0.9844\n",
      "Epoch 41/100\n",
      "60000/60000 [==============================] - 4s 72us/step - loss: 0.0042 - acc: 0.9987 - val_loss: 0.0890 - val_acc: 0.9824\n",
      "Epoch 42/100\n",
      "60000/60000 [==============================] - 4s 73us/step - loss: 0.0051 - acc: 0.9983 - val_loss: 0.0896 - val_acc: 0.9830\n",
      "Epoch 43/100\n",
      "60000/60000 [==============================] - 4s 72us/step - loss: 0.0041 - acc: 0.9987 - val_loss: 0.0876 - val_acc: 0.9834\n",
      "Epoch 44/100\n",
      "60000/60000 [==============================] - 4s 73us/step - loss: 0.0040 - acc: 0.9987 - val_loss: 0.0925 - val_acc: 0.9820\n",
      "Epoch 45/100\n",
      "60000/60000 [==============================] - 4s 71us/step - loss: 0.0048 - acc: 0.9984 - val_loss: 0.0915 - val_acc: 0.9836\n",
      "Epoch 46/100\n",
      "60000/60000 [==============================] - 4s 72us/step - loss: 0.0052 - acc: 0.9980 - val_loss: 0.0937 - val_acc: 0.9826\n",
      "Epoch 47/100\n",
      "60000/60000 [==============================] - 4s 73us/step - loss: 0.0040 - acc: 0.9987 - val_loss: 0.0876 - val_acc: 0.9839\n",
      "Epoch 48/100\n",
      "60000/60000 [==============================] - 4s 72us/step - loss: 0.0044 - acc: 0.9985 - val_loss: 0.0971 - val_acc: 0.9826\n",
      "Epoch 49/100\n",
      "60000/60000 [==============================] - 4s 74us/step - loss: 0.0038 - acc: 0.9986 - val_loss: 0.1046 - val_acc: 0.9840\n",
      "Epoch 50/100\n",
      "60000/60000 [==============================] - 4s 74us/step - loss: 0.0059 - acc: 0.9980 - val_loss: 0.0951 - val_acc: 0.9829\n",
      "Epoch 51/100\n",
      "60000/60000 [==============================] - 4s 74us/step - loss: 0.0033 - acc: 0.9990 - val_loss: 0.0898 - val_acc: 0.9832\n",
      "Epoch 52/100\n",
      "60000/60000 [==============================] - 4s 72us/step - loss: 0.0043 - acc: 0.9986 - val_loss: 0.0958 - val_acc: 0.9823\n",
      "Epoch 53/100\n",
      "60000/60000 [==============================] - 4s 71us/step - loss: 0.0047 - acc: 0.9986 - val_loss: 0.0888 - val_acc: 0.9846\n",
      "Epoch 54/100\n",
      "60000/60000 [==============================] - 4s 74us/step - loss: 0.0045 - acc: 0.9985 - val_loss: 0.1030 - val_acc: 0.9816\n",
      "Epoch 55/100\n",
      "60000/60000 [==============================] - 4s 72us/step - loss: 0.0049 - acc: 0.9983 - val_loss: 0.0977 - val_acc: 0.9835\n",
      "Epoch 56/100\n",
      "60000/60000 [==============================] - 4s 74us/step - loss: 0.0043 - acc: 0.9985 - val_loss: 0.0928 - val_acc: 0.9831\n",
      "Epoch 57/100\n",
      "60000/60000 [==============================] - 4s 73us/step - loss: 0.0053 - acc: 0.9983 - val_loss: 0.1092 - val_acc: 0.9823\n",
      "Epoch 58/100\n",
      "60000/60000 [==============================] - 4s 73us/step - loss: 0.0038 - acc: 0.9989 - val_loss: 0.0972 - val_acc: 0.9824\n",
      "Epoch 59/100\n"
     ]
    },
    {
     "name": "stdout",
     "output_type": "stream",
     "text": [
      "60000/60000 [==============================] - 4s 67us/step - loss: 0.0040 - acc: 0.9986 - val_loss: 0.0954 - val_acc: 0.9827\n",
      "Epoch 60/100\n",
      "60000/60000 [==============================] - 4s 65us/step - loss: 0.0029 - acc: 0.9992 - val_loss: 0.0873 - val_acc: 0.9848\n",
      "Epoch 61/100\n",
      "60000/60000 [==============================] - 4s 66us/step - loss: 0.0043 - acc: 0.9986 - val_loss: 0.1120 - val_acc: 0.9824\n",
      "Epoch 62/100\n",
      "60000/60000 [==============================] - 4s 66us/step - loss: 0.0037 - acc: 0.9988 - val_loss: 0.1040 - val_acc: 0.9831\n",
      "Epoch 63/100\n",
      "60000/60000 [==============================] - 4s 66us/step - loss: 0.0033 - acc: 0.9990 - val_loss: 0.0969 - val_acc: 0.9828\n",
      "Epoch 64/100\n",
      "60000/60000 [==============================] - 4s 67us/step - loss: 0.0050 - acc: 0.9983 - val_loss: 0.1032 - val_acc: 0.9827\n",
      "Epoch 65/100\n",
      "60000/60000 [==============================] - 4s 68us/step - loss: 0.0033 - acc: 0.9990 - val_loss: 0.0998 - val_acc: 0.9840\n",
      "Epoch 66/100\n",
      "60000/60000 [==============================] - 4s 65us/step - loss: 0.0036 - acc: 0.9989 - val_loss: 0.1047 - val_acc: 0.9829\n",
      "Epoch 67/100\n",
      "60000/60000 [==============================] - 4s 67us/step - loss: 0.0031 - acc: 0.9990 - val_loss: 0.1065 - val_acc: 0.9825\n",
      "Epoch 68/100\n",
      "60000/60000 [==============================] - 4s 66us/step - loss: 0.0049 - acc: 0.9983 - val_loss: 0.1150 - val_acc: 0.9823\n",
      "Epoch 69/100\n",
      "60000/60000 [==============================] - 4s 68us/step - loss: 0.0050 - acc: 0.9985 - val_loss: 0.1063 - val_acc: 0.9823\n",
      "Epoch 70/100\n",
      "60000/60000 [==============================] - 4s 68us/step - loss: 0.0032 - acc: 0.9989 - val_loss: 0.0968 - val_acc: 0.9834\n",
      "Epoch 71/100\n",
      "60000/60000 [==============================] - 4s 66us/step - loss: 0.0025 - acc: 0.9991 - val_loss: 0.1111 - val_acc: 0.9829\n",
      "Epoch 72/100\n",
      "60000/60000 [==============================] - 4s 68us/step - loss: 0.0036 - acc: 0.9988 - val_loss: 0.1079 - val_acc: 0.9825\n",
      "Epoch 73/100\n",
      "60000/60000 [==============================] - 4s 69us/step - loss: 0.0027 - acc: 0.9991 - val_loss: 0.0994 - val_acc: 0.9850\n",
      "Epoch 74/100\n",
      "60000/60000 [==============================] - 4s 69us/step - loss: 0.0038 - acc: 0.9986 - val_loss: 0.1025 - val_acc: 0.9838\n",
      "Epoch 75/100\n",
      "60000/60000 [==============================] - 4s 68us/step - loss: 0.0033 - acc: 0.9989 - val_loss: 0.1031 - val_acc: 0.9838\n",
      "Epoch 76/100\n",
      "60000/60000 [==============================] - 4s 69us/step - loss: 0.0031 - acc: 0.9990 - val_loss: 0.1116 - val_acc: 0.9824\n",
      "Epoch 77/100\n",
      "60000/60000 [==============================] - 4s 70us/step - loss: 0.0036 - acc: 0.9987 - val_loss: 0.1085 - val_acc: 0.9834\n",
      "Epoch 78/100\n",
      "60000/60000 [==============================] - 4s 69us/step - loss: 0.0039 - acc: 0.9987 - val_loss: 0.1155 - val_acc: 0.9823\n",
      "Epoch 79/100\n",
      "60000/60000 [==============================] - 4s 69us/step - loss: 0.0035 - acc: 0.9989 - val_loss: 0.1145 - val_acc: 0.9834\n",
      "Epoch 80/100\n",
      "60000/60000 [==============================] - 4s 69us/step - loss: 0.0042 - acc: 0.9987 - val_loss: 0.1098 - val_acc: 0.9837\n",
      "Epoch 81/100\n",
      "60000/60000 [==============================] - 4s 69us/step - loss: 0.0029 - acc: 0.9990 - val_loss: 0.1106 - val_acc: 0.9831\n",
      "Epoch 82/100\n",
      "60000/60000 [==============================] - 4s 70us/step - loss: 0.0031 - acc: 0.9990 - val_loss: 0.1180 - val_acc: 0.9833\n",
      "Epoch 83/100\n",
      "60000/60000 [==============================] - 4s 69us/step - loss: 0.0027 - acc: 0.9991 - val_loss: 0.1020 - val_acc: 0.9841\n",
      "Epoch 84/100\n",
      "60000/60000 [==============================] - 4s 74us/step - loss: 0.0039 - acc: 0.9986 - val_loss: 0.1098 - val_acc: 0.9843\n",
      "Epoch 85/100\n",
      "60000/60000 [==============================] - 4s 68us/step - loss: 0.0036 - acc: 0.9989 - val_loss: 0.1092 - val_acc: 0.9843\n",
      "Epoch 86/100\n",
      "60000/60000 [==============================] - 4s 68us/step - loss: 0.0029 - acc: 0.9990 - val_loss: 0.1073 - val_acc: 0.9843\n",
      "Epoch 87/100\n",
      "60000/60000 [==============================] - 4s 70us/step - loss: 0.0024 - acc: 0.9991 - val_loss: 0.1114 - val_acc: 0.9832\n",
      "Epoch 88/100\n",
      "60000/60000 [==============================] - 4s 67us/step - loss: 0.0028 - acc: 0.9991 - val_loss: 0.1149 - val_acc: 0.9825\n",
      "Epoch 89/100\n",
      "60000/60000 [==============================] - 4s 68us/step - loss: 0.0039 - acc: 0.9989 - val_loss: 0.1139 - val_acc: 0.9820\n",
      "Epoch 90/100\n",
      "60000/60000 [==============================] - 4s 70us/step - loss: 0.0033 - acc: 0.9988 - val_loss: 0.1158 - val_acc: 0.9825\n",
      "Epoch 91/100\n",
      "60000/60000 [==============================] - 4s 68us/step - loss: 0.0031 - acc: 0.9991 - val_loss: 0.1194 - val_acc: 0.9828\n",
      "Epoch 92/100\n",
      "60000/60000 [==============================] - 4s 69us/step - loss: 0.0042 - acc: 0.9987 - val_loss: 0.1112 - val_acc: 0.9838\n",
      "Epoch 93/100\n",
      "60000/60000 [==============================] - 4s 67us/step - loss: 0.0036 - acc: 0.9988 - val_loss: 0.1069 - val_acc: 0.9831\n",
      "Epoch 94/100\n",
      "60000/60000 [==============================] - 4s 68us/step - loss: 0.0033 - acc: 0.9991 - val_loss: 0.1215 - val_acc: 0.9826\n",
      "Epoch 95/100\n",
      "60000/60000 [==============================] - 4s 69us/step - loss: 0.0021 - acc: 0.9992 - val_loss: 0.1156 - val_acc: 0.9841\n",
      "Epoch 96/100\n",
      "60000/60000 [==============================] - 4s 68us/step - loss: 0.0031 - acc: 0.9990 - val_loss: 0.1193 - val_acc: 0.9837\n",
      "Epoch 97/100\n",
      "60000/60000 [==============================] - 4s 69us/step - loss: 0.0030 - acc: 0.9990 - val_loss: 0.1187 - val_acc: 0.9825\n",
      "Epoch 98/100\n",
      "60000/60000 [==============================] - 4s 68us/step - loss: 0.0047 - acc: 0.9986 - val_loss: 0.1159 - val_acc: 0.9833\n",
      "Epoch 99/100\n",
      "60000/60000 [==============================] - 4s 67us/step - loss: 0.0019 - acc: 0.9994 - val_loss: 0.1147 - val_acc: 0.9830\n",
      "Epoch 100/100\n",
      "60000/60000 [==============================] - 4s 69us/step - loss: 0.0030 - acc: 0.9992 - val_loss: 0.1188 - val_acc: 0.9823\n",
      "_________________________________________________________________\n",
      "Layer (type)                 Output Shape              Param #   \n",
      "=================================================================\n",
      "flatten_2 (Flatten)          (None, 784)               0         \n",
      "_________________________________________________________________\n",
      "dense_12 (Dense)             (None, 512)               401920    \n",
      "_________________________________________________________________\n",
      "dropout_6 (Dropout)          (None, 512)               0         \n",
      "_________________________________________________________________\n",
      "dense_13 (Dense)             (None, 10)                5130      \n",
      "=================================================================\n",
      "Total params: 407,050\n",
      "Trainable params: 407,050\n",
      "Non-trainable params: 0\n",
      "_________________________________________________________________\n",
      "Test score: 0.11878820286241061\n",
      "Test accuracy: 0.9823\n"
     ]
    }
   ],
   "source": [
    "# Returns a short sequential model\n",
    "def create_model():\n",
    "  model = tf.keras.models.Sequential([\n",
    "    keras.layers.Flatten(input_shape=train_images[0].shape),\n",
    "    keras.layers.Dense(512, activation=tf.nn.relu, input_shape=(784,)),\n",
    "    keras.layers.Dropout(0.2),\n",
    "    keras.layers.Dense(10, activation=tf.nn.softmax)\n",
    "  ])\n",
    "  \n",
    "  model.compile(optimizer=tf.train.AdamOptimizer(), \n",
    "                loss=tf.keras.losses.sparse_categorical_crossentropy,\n",
    "                metrics=['accuracy'])\n",
    "  \n",
    "  return model\n",
    "\n",
    "\n",
    "# Create a basic model instance\n",
    "model = create_model()\n",
    "\n",
    "model.fit(train_images, train_labels,\n",
    "          batch_size=128, nb_epoch=100,\n",
    "          validation_data=(test_images, test_labels))\n",
    "\n",
    "model.summary()\n",
    "\n",
    "score = model.evaluate(test_images, test_labels, verbose=0)\n",
    "print('Test score:', score[0])\n",
    "print('Test accuracy:', score[1])\n",
    "\n",
    "# model.save('my_model.h5')\n"
   ]
  },
  {
   "cell_type": "code",
   "execution_count": 32,
   "metadata": {},
   "outputs": [
    {
     "name": "stdout",
     "output_type": "stream",
     "text": [
      "pr [7]\n",
      "pr [3]\n",
      "pr [8]\n",
      "pr [9]\n",
      "pr [7]\n",
      "pr [8]\n",
      "pr [8]\n",
      "pr [0]\n",
      "pr [3]\n",
      "pr [3]\n",
      "pr [0]\n",
      "pr [0]\n",
      "pr [0]\n",
      "pr [3]\n",
      "pr [8]\n",
      "pr [0]\n",
      "pr [0]\n",
      "pr [2]\n"
     ]
    },
    {
     "data": {
      "image/png": "[encoded data removed]",
      "text/plain": [
       "<matplotlib.figure.Figure at 0x18209f0f98>"
      ]
     },
     "metadata": {},
     "output_type": "display_data"
    }
   ],
   "source": [
    "# check \n",
    "for x in range(18):\n",
    "    img_tensor = plt.imread(\"/Users/rongshuxiacy/Desktop/digits/sample_picture_\" + str(20 + x) + \".png\")\n",
    "    plt.subplot(6,6,x+1)\n",
    "    plt.imshow(img_tensor, cmap='gray', interpolation='none')\n",
    "    pr = model.predict_classes(img_tensor.reshape((1, 784)))\n",
    "    print('pr', pr)"
   ]
  },
  {
   "cell_type": "code",
   "execution_count": 33,
   "metadata": {},
   "outputs": [
    {
     "name": "stdout",
     "output_type": "stream",
     "text": [
      "WARNING:tensorflow:TensorFlow optimizers do not make it possible to access optimizer attributes or optimizer state after instantiation. As a result, we cannot save the optimizer as part of the model save file.You will have to compile your model again after loading it. Prefer using a Keras optimizer instead (see keras.io/optimizers).\n"
     ]
    }
   ],
   "source": [
    "model.save('my_model.h5')"
   ]
  },
  {
   "cell_type": "code",
   "execution_count": 34,
   "metadata": {},
   "outputs": [
    {
     "name": "stdout",
     "output_type": "stream",
     "text": [
      "WARNING:tensorflow:No training configuration found in save file: the model was *not* compiled. Compile it manually.\n",
      "INFO:tensorflow:Froze 4 variables.\n",
      "INFO:tensorflow:Converted 4 variables to const ops.\n"
     ]
    },
    {
     "data": {
      "text/plain": [
       "1629292"
      ]
     },
     "execution_count": 34,
     "metadata": {},
     "output_type": "execute_result"
    }
   ],
   "source": [
    "converter = tf.contrib.lite.TFLiteConverter.from_keras_model_file('my_model.h5')\n",
    "tflite_model = converter.convert()\n",
    "open(\"converted_model.tflite\", \"wb\").write(tflite_model)"
   ]
  },
  {
   "cell_type": "code",
   "execution_count": null,
   "metadata": {},
   "outputs": [],
   "source": []
  }
 ],
 "metadata": {
  "kernelspec": {
   "display_name": "Python 3",
   "language": "python",
   "name": "python3"
  },
  "language_info": {
   "codemirror_mode": {
    "name": "ipython",
    "version": 3
   },
   "file_extension": ".py",
   "mimetype": "text/x-python",
   "name": "python",
   "nbconvert_exporter": "python",
   "pygments_lexer": "ipython3",
   "version": "3.6.4"
  }
 },
 "nbformat": 4,
 "nbformat_minor": 2
}
